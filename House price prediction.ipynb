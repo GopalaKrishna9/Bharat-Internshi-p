{
 "cells": [
  {
   "cell_type": "markdown",
   "metadata": {},
   "source": [
    "# House price prediction"
   ]
  },
  {
   "cell_type": "code",
   "execution_count": 1,
   "metadata": {},
   "outputs": [],
   "source": [
    "import numpy as np\n",
    "import pandas as pd\n",
    "import seaborn as sns\n",
    "import matplotlib.pyplot as plt\n",
    "import warnings\n",
    "warnings.filterwarnings(\"ignore\")\n",
    "%matplotlib inline\n",
    "from sklearn.preprocessing import StandardScaler\n",
    "import statsmodels.api as sm\n",
    "from sklearn.model_selection import train_test_split\n",
    "from sklearn.linear_model import LinearRegression\n",
    "from sklearn.metrics import r2_score"
   ]
  },
  {
   "cell_type": "code",
   "execution_count": 2,
   "metadata": {},
   "outputs": [
    {
     "data": {
      "text/html": [
       "<div>\n",
       "<style scoped>\n",
       "    .dataframe tbody tr th:only-of-type {\n",
       "        vertical-align: middle;\n",
       "    }\n",
       "\n",
       "    .dataframe tbody tr th {\n",
       "        vertical-align: top;\n",
       "    }\n",
       "\n",
       "    .dataframe thead th {\n",
       "        text-align: right;\n",
       "    }\n",
       "</style>\n",
       "<table border=\"1\" class=\"dataframe\">\n",
       "  <thead>\n",
       "    <tr style=\"text-align: right;\">\n",
       "      <th></th>\n",
       "      <th>date</th>\n",
       "      <th>price</th>\n",
       "      <th>bedrooms</th>\n",
       "      <th>bathrooms</th>\n",
       "      <th>sqft_living</th>\n",
       "      <th>sqft_lot</th>\n",
       "      <th>floors</th>\n",
       "      <th>waterfront</th>\n",
       "      <th>view</th>\n",
       "      <th>condition</th>\n",
       "      <th>sqft_above</th>\n",
       "      <th>sqft_basement</th>\n",
       "      <th>yr_built</th>\n",
       "      <th>yr_renovated</th>\n",
       "      <th>street</th>\n",
       "      <th>city</th>\n",
       "      <th>statezip</th>\n",
       "      <th>country</th>\n",
       "    </tr>\n",
       "  </thead>\n",
       "  <tbody>\n",
       "    <tr>\n",
       "      <th>0</th>\n",
       "      <td>2014-05-02 00:00:00</td>\n",
       "      <td>313000.0</td>\n",
       "      <td>3.0</td>\n",
       "      <td>1.50</td>\n",
       "      <td>1340</td>\n",
       "      <td>7912</td>\n",
       "      <td>1.5</td>\n",
       "      <td>0</td>\n",
       "      <td>0</td>\n",
       "      <td>3</td>\n",
       "      <td>1340</td>\n",
       "      <td>0</td>\n",
       "      <td>1955</td>\n",
       "      <td>2005</td>\n",
       "      <td>18810 Densmore Ave N</td>\n",
       "      <td>Shoreline</td>\n",
       "      <td>WA 98133</td>\n",
       "      <td>USA</td>\n",
       "    </tr>\n",
       "    <tr>\n",
       "      <th>1</th>\n",
       "      <td>2014-05-02 00:00:00</td>\n",
       "      <td>2384000.0</td>\n",
       "      <td>5.0</td>\n",
       "      <td>2.50</td>\n",
       "      <td>3650</td>\n",
       "      <td>9050</td>\n",
       "      <td>2.0</td>\n",
       "      <td>0</td>\n",
       "      <td>4</td>\n",
       "      <td>5</td>\n",
       "      <td>3370</td>\n",
       "      <td>280</td>\n",
       "      <td>1921</td>\n",
       "      <td>0</td>\n",
       "      <td>709 W Blaine St</td>\n",
       "      <td>Seattle</td>\n",
       "      <td>WA 98119</td>\n",
       "      <td>USA</td>\n",
       "    </tr>\n",
       "    <tr>\n",
       "      <th>2</th>\n",
       "      <td>2014-05-02 00:00:00</td>\n",
       "      <td>342000.0</td>\n",
       "      <td>3.0</td>\n",
       "      <td>2.00</td>\n",
       "      <td>1930</td>\n",
       "      <td>11947</td>\n",
       "      <td>1.0</td>\n",
       "      <td>0</td>\n",
       "      <td>0</td>\n",
       "      <td>4</td>\n",
       "      <td>1930</td>\n",
       "      <td>0</td>\n",
       "      <td>1966</td>\n",
       "      <td>0</td>\n",
       "      <td>26206-26214 143rd Ave SE</td>\n",
       "      <td>Kent</td>\n",
       "      <td>WA 98042</td>\n",
       "      <td>USA</td>\n",
       "    </tr>\n",
       "    <tr>\n",
       "      <th>3</th>\n",
       "      <td>2014-05-02 00:00:00</td>\n",
       "      <td>420000.0</td>\n",
       "      <td>3.0</td>\n",
       "      <td>2.25</td>\n",
       "      <td>2000</td>\n",
       "      <td>8030</td>\n",
       "      <td>1.0</td>\n",
       "      <td>0</td>\n",
       "      <td>0</td>\n",
       "      <td>4</td>\n",
       "      <td>1000</td>\n",
       "      <td>1000</td>\n",
       "      <td>1963</td>\n",
       "      <td>0</td>\n",
       "      <td>857 170th Pl NE</td>\n",
       "      <td>Bellevue</td>\n",
       "      <td>WA 98008</td>\n",
       "      <td>USA</td>\n",
       "    </tr>\n",
       "    <tr>\n",
       "      <th>4</th>\n",
       "      <td>2014-05-02 00:00:00</td>\n",
       "      <td>550000.0</td>\n",
       "      <td>4.0</td>\n",
       "      <td>2.50</td>\n",
       "      <td>1940</td>\n",
       "      <td>10500</td>\n",
       "      <td>1.0</td>\n",
       "      <td>0</td>\n",
       "      <td>0</td>\n",
       "      <td>4</td>\n",
       "      <td>1140</td>\n",
       "      <td>800</td>\n",
       "      <td>1976</td>\n",
       "      <td>1992</td>\n",
       "      <td>9105 170th Ave NE</td>\n",
       "      <td>Redmond</td>\n",
       "      <td>WA 98052</td>\n",
       "      <td>USA</td>\n",
       "    </tr>\n",
       "  </tbody>\n",
       "</table>\n",
       "</div>"
      ],
      "text/plain": [
       "                  date      price  bedrooms  bathrooms  sqft_living  sqft_lot  \\\n",
       "0  2014-05-02 00:00:00   313000.0       3.0       1.50         1340      7912   \n",
       "1  2014-05-02 00:00:00  2384000.0       5.0       2.50         3650      9050   \n",
       "2  2014-05-02 00:00:00   342000.0       3.0       2.00         1930     11947   \n",
       "3  2014-05-02 00:00:00   420000.0       3.0       2.25         2000      8030   \n",
       "4  2014-05-02 00:00:00   550000.0       4.0       2.50         1940     10500   \n",
       "\n",
       "   floors  waterfront  view  condition  sqft_above  sqft_basement  yr_built  \\\n",
       "0     1.5           0     0          3        1340              0      1955   \n",
       "1     2.0           0     4          5        3370            280      1921   \n",
       "2     1.0           0     0          4        1930              0      1966   \n",
       "3     1.0           0     0          4        1000           1000      1963   \n",
       "4     1.0           0     0          4        1140            800      1976   \n",
       "\n",
       "   yr_renovated                    street       city  statezip country  \n",
       "0          2005      18810 Densmore Ave N  Shoreline  WA 98133     USA  \n",
       "1             0           709 W Blaine St    Seattle  WA 98119     USA  \n",
       "2             0  26206-26214 143rd Ave SE       Kent  WA 98042     USA  \n",
       "3             0           857 170th Pl NE   Bellevue  WA 98008     USA  \n",
       "4          1992         9105 170th Ave NE    Redmond  WA 98052     USA  "
      ]
     },
     "execution_count": 2,
     "metadata": {},
     "output_type": "execute_result"
    }
   ],
   "source": [
    "Data = pd.read_csv(\"C:/Users/hp/OneDrive/Desktop/himadhruthi/data.csv\")\n",
    "Data.head()"
   ]
  },
  {
   "cell_type": "code",
   "execution_count": 3,
   "metadata": {},
   "outputs": [
    {
     "data": {
      "text/plain": [
       "Index(['date', 'price', 'bedrooms', 'bathrooms', 'sqft_living', 'sqft_lot',\n",
       "       'floors', 'waterfront', 'view', 'condition', 'sqft_above',\n",
       "       'sqft_basement', 'yr_built', 'yr_renovated', 'street', 'city',\n",
       "       'statezip', 'country'],\n",
       "      dtype='object')"
      ]
     },
     "execution_count": 3,
     "metadata": {},
     "output_type": "execute_result"
    }
   ],
   "source": [
    "Data.columns"
   ]
  },
  {
   "cell_type": "code",
   "execution_count": 4,
   "metadata": {},
   "outputs": [
    {
     "data": {
      "text/html": [
       "<div>\n",
       "<style scoped>\n",
       "    .dataframe tbody tr th:only-of-type {\n",
       "        vertical-align: middle;\n",
       "    }\n",
       "\n",
       "    .dataframe tbody tr th {\n",
       "        vertical-align: top;\n",
       "    }\n",
       "\n",
       "    .dataframe thead th {\n",
       "        text-align: right;\n",
       "    }\n",
       "</style>\n",
       "<table border=\"1\" class=\"dataframe\">\n",
       "  <thead>\n",
       "    <tr style=\"text-align: right;\">\n",
       "      <th></th>\n",
       "      <th>price</th>\n",
       "      <th>bedrooms</th>\n",
       "      <th>bathrooms</th>\n",
       "      <th>sqft_living</th>\n",
       "      <th>sqft_lot</th>\n",
       "      <th>floors</th>\n",
       "      <th>waterfront</th>\n",
       "      <th>view</th>\n",
       "      <th>condition</th>\n",
       "      <th>sqft_above</th>\n",
       "      <th>sqft_basement</th>\n",
       "      <th>yr_built</th>\n",
       "      <th>yr_renovated</th>\n",
       "    </tr>\n",
       "  </thead>\n",
       "  <tbody>\n",
       "    <tr>\n",
       "      <th>count</th>\n",
       "      <td>4.600000e+03</td>\n",
       "      <td>4600.000000</td>\n",
       "      <td>4600.000000</td>\n",
       "      <td>4600.000000</td>\n",
       "      <td>4.600000e+03</td>\n",
       "      <td>4600.000000</td>\n",
       "      <td>4600.000000</td>\n",
       "      <td>4600.000000</td>\n",
       "      <td>4600.000000</td>\n",
       "      <td>4600.000000</td>\n",
       "      <td>4600.000000</td>\n",
       "      <td>4600.000000</td>\n",
       "      <td>4600.000000</td>\n",
       "    </tr>\n",
       "    <tr>\n",
       "      <th>mean</th>\n",
       "      <td>5.519630e+05</td>\n",
       "      <td>3.400870</td>\n",
       "      <td>2.160815</td>\n",
       "      <td>2139.346957</td>\n",
       "      <td>1.485252e+04</td>\n",
       "      <td>1.512065</td>\n",
       "      <td>0.007174</td>\n",
       "      <td>0.240652</td>\n",
       "      <td>3.451739</td>\n",
       "      <td>1827.265435</td>\n",
       "      <td>312.081522</td>\n",
       "      <td>1970.786304</td>\n",
       "      <td>808.608261</td>\n",
       "    </tr>\n",
       "    <tr>\n",
       "      <th>std</th>\n",
       "      <td>5.638347e+05</td>\n",
       "      <td>0.908848</td>\n",
       "      <td>0.783781</td>\n",
       "      <td>963.206916</td>\n",
       "      <td>3.588444e+04</td>\n",
       "      <td>0.538288</td>\n",
       "      <td>0.084404</td>\n",
       "      <td>0.778405</td>\n",
       "      <td>0.677230</td>\n",
       "      <td>862.168977</td>\n",
       "      <td>464.137228</td>\n",
       "      <td>29.731848</td>\n",
       "      <td>979.414536</td>\n",
       "    </tr>\n",
       "    <tr>\n",
       "      <th>min</th>\n",
       "      <td>0.000000e+00</td>\n",
       "      <td>0.000000</td>\n",
       "      <td>0.000000</td>\n",
       "      <td>370.000000</td>\n",
       "      <td>6.380000e+02</td>\n",
       "      <td>1.000000</td>\n",
       "      <td>0.000000</td>\n",
       "      <td>0.000000</td>\n",
       "      <td>1.000000</td>\n",
       "      <td>370.000000</td>\n",
       "      <td>0.000000</td>\n",
       "      <td>1900.000000</td>\n",
       "      <td>0.000000</td>\n",
       "    </tr>\n",
       "    <tr>\n",
       "      <th>25%</th>\n",
       "      <td>3.228750e+05</td>\n",
       "      <td>3.000000</td>\n",
       "      <td>1.750000</td>\n",
       "      <td>1460.000000</td>\n",
       "      <td>5.000750e+03</td>\n",
       "      <td>1.000000</td>\n",
       "      <td>0.000000</td>\n",
       "      <td>0.000000</td>\n",
       "      <td>3.000000</td>\n",
       "      <td>1190.000000</td>\n",
       "      <td>0.000000</td>\n",
       "      <td>1951.000000</td>\n",
       "      <td>0.000000</td>\n",
       "    </tr>\n",
       "    <tr>\n",
       "      <th>50%</th>\n",
       "      <td>4.609435e+05</td>\n",
       "      <td>3.000000</td>\n",
       "      <td>2.250000</td>\n",
       "      <td>1980.000000</td>\n",
       "      <td>7.683000e+03</td>\n",
       "      <td>1.500000</td>\n",
       "      <td>0.000000</td>\n",
       "      <td>0.000000</td>\n",
       "      <td>3.000000</td>\n",
       "      <td>1590.000000</td>\n",
       "      <td>0.000000</td>\n",
       "      <td>1976.000000</td>\n",
       "      <td>0.000000</td>\n",
       "    </tr>\n",
       "    <tr>\n",
       "      <th>75%</th>\n",
       "      <td>6.549625e+05</td>\n",
       "      <td>4.000000</td>\n",
       "      <td>2.500000</td>\n",
       "      <td>2620.000000</td>\n",
       "      <td>1.100125e+04</td>\n",
       "      <td>2.000000</td>\n",
       "      <td>0.000000</td>\n",
       "      <td>0.000000</td>\n",
       "      <td>4.000000</td>\n",
       "      <td>2300.000000</td>\n",
       "      <td>610.000000</td>\n",
       "      <td>1997.000000</td>\n",
       "      <td>1999.000000</td>\n",
       "    </tr>\n",
       "    <tr>\n",
       "      <th>max</th>\n",
       "      <td>2.659000e+07</td>\n",
       "      <td>9.000000</td>\n",
       "      <td>8.000000</td>\n",
       "      <td>13540.000000</td>\n",
       "      <td>1.074218e+06</td>\n",
       "      <td>3.500000</td>\n",
       "      <td>1.000000</td>\n",
       "      <td>4.000000</td>\n",
       "      <td>5.000000</td>\n",
       "      <td>9410.000000</td>\n",
       "      <td>4820.000000</td>\n",
       "      <td>2014.000000</td>\n",
       "      <td>2014.000000</td>\n",
       "    </tr>\n",
       "  </tbody>\n",
       "</table>\n",
       "</div>"
      ],
      "text/plain": [
       "              price     bedrooms    bathrooms   sqft_living      sqft_lot  \\\n",
       "count  4.600000e+03  4600.000000  4600.000000   4600.000000  4.600000e+03   \n",
       "mean   5.519630e+05     3.400870     2.160815   2139.346957  1.485252e+04   \n",
       "std    5.638347e+05     0.908848     0.783781    963.206916  3.588444e+04   \n",
       "min    0.000000e+00     0.000000     0.000000    370.000000  6.380000e+02   \n",
       "25%    3.228750e+05     3.000000     1.750000   1460.000000  5.000750e+03   \n",
       "50%    4.609435e+05     3.000000     2.250000   1980.000000  7.683000e+03   \n",
       "75%    6.549625e+05     4.000000     2.500000   2620.000000  1.100125e+04   \n",
       "max    2.659000e+07     9.000000     8.000000  13540.000000  1.074218e+06   \n",
       "\n",
       "            floors   waterfront         view    condition   sqft_above  \\\n",
       "count  4600.000000  4600.000000  4600.000000  4600.000000  4600.000000   \n",
       "mean      1.512065     0.007174     0.240652     3.451739  1827.265435   \n",
       "std       0.538288     0.084404     0.778405     0.677230   862.168977   \n",
       "min       1.000000     0.000000     0.000000     1.000000   370.000000   \n",
       "25%       1.000000     0.000000     0.000000     3.000000  1190.000000   \n",
       "50%       1.500000     0.000000     0.000000     3.000000  1590.000000   \n",
       "75%       2.000000     0.000000     0.000000     4.000000  2300.000000   \n",
       "max       3.500000     1.000000     4.000000     5.000000  9410.000000   \n",
       "\n",
       "       sqft_basement     yr_built  yr_renovated  \n",
       "count    4600.000000  4600.000000   4600.000000  \n",
       "mean      312.081522  1970.786304    808.608261  \n",
       "std       464.137228    29.731848    979.414536  \n",
       "min         0.000000  1900.000000      0.000000  \n",
       "25%         0.000000  1951.000000      0.000000  \n",
       "50%         0.000000  1976.000000      0.000000  \n",
       "75%       610.000000  1997.000000   1999.000000  \n",
       "max      4820.000000  2014.000000   2014.000000  "
      ]
     },
     "execution_count": 4,
     "metadata": {},
     "output_type": "execute_result"
    }
   ],
   "source": [
    "Data.describe()"
   ]
  },
  {
   "cell_type": "code",
   "execution_count": 5,
   "metadata": {},
   "outputs": [
    {
     "data": {
      "text/plain": [
       "date             0\n",
       "price            0\n",
       "bedrooms         0\n",
       "bathrooms        0\n",
       "sqft_living      0\n",
       "sqft_lot         0\n",
       "floors           0\n",
       "waterfront       0\n",
       "view             0\n",
       "condition        0\n",
       "sqft_above       0\n",
       "sqft_basement    0\n",
       "yr_built         0\n",
       "yr_renovated     0\n",
       "street           0\n",
       "city             0\n",
       "statezip         0\n",
       "country          0\n",
       "dtype: int64"
      ]
     },
     "execution_count": 5,
     "metadata": {},
     "output_type": "execute_result"
    }
   ],
   "source": [
    "Data.isnull().sum()"
   ]
  },
  {
   "cell_type": "code",
   "execution_count": 6,
   "metadata": {},
   "outputs": [
    {
     "data": {
      "text/html": [
       "<div>\n",
       "<style scoped>\n",
       "    .dataframe tbody tr th:only-of-type {\n",
       "        vertical-align: middle;\n",
       "    }\n",
       "\n",
       "    .dataframe tbody tr th {\n",
       "        vertical-align: top;\n",
       "    }\n",
       "\n",
       "    .dataframe thead th {\n",
       "        text-align: right;\n",
       "    }\n",
       "</style>\n",
       "<table border=\"1\" class=\"dataframe\">\n",
       "  <thead>\n",
       "    <tr style=\"text-align: right;\">\n",
       "      <th></th>\n",
       "      <th>bedrooms</th>\n",
       "      <th>bathrooms</th>\n",
       "      <th>sqft_living</th>\n",
       "      <th>sqft_lot</th>\n",
       "      <th>floors</th>\n",
       "      <th>waterfront</th>\n",
       "      <th>view</th>\n",
       "      <th>condition</th>\n",
       "      <th>sqft_above</th>\n",
       "      <th>sqft_basement</th>\n",
       "      <th>yr_built</th>\n",
       "      <th>yr_renovated</th>\n",
       "    </tr>\n",
       "  </thead>\n",
       "  <tbody>\n",
       "    <tr>\n",
       "      <th>0</th>\n",
       "      <td>3.0</td>\n",
       "      <td>1.50</td>\n",
       "      <td>1340</td>\n",
       "      <td>7912</td>\n",
       "      <td>1.5</td>\n",
       "      <td>0</td>\n",
       "      <td>0</td>\n",
       "      <td>3</td>\n",
       "      <td>1340</td>\n",
       "      <td>0</td>\n",
       "      <td>1955</td>\n",
       "      <td>2005</td>\n",
       "    </tr>\n",
       "    <tr>\n",
       "      <th>1</th>\n",
       "      <td>5.0</td>\n",
       "      <td>2.50</td>\n",
       "      <td>3650</td>\n",
       "      <td>9050</td>\n",
       "      <td>2.0</td>\n",
       "      <td>0</td>\n",
       "      <td>4</td>\n",
       "      <td>5</td>\n",
       "      <td>3370</td>\n",
       "      <td>280</td>\n",
       "      <td>1921</td>\n",
       "      <td>0</td>\n",
       "    </tr>\n",
       "    <tr>\n",
       "      <th>2</th>\n",
       "      <td>3.0</td>\n",
       "      <td>2.00</td>\n",
       "      <td>1930</td>\n",
       "      <td>11947</td>\n",
       "      <td>1.0</td>\n",
       "      <td>0</td>\n",
       "      <td>0</td>\n",
       "      <td>4</td>\n",
       "      <td>1930</td>\n",
       "      <td>0</td>\n",
       "      <td>1966</td>\n",
       "      <td>0</td>\n",
       "    </tr>\n",
       "    <tr>\n",
       "      <th>3</th>\n",
       "      <td>3.0</td>\n",
       "      <td>2.25</td>\n",
       "      <td>2000</td>\n",
       "      <td>8030</td>\n",
       "      <td>1.0</td>\n",
       "      <td>0</td>\n",
       "      <td>0</td>\n",
       "      <td>4</td>\n",
       "      <td>1000</td>\n",
       "      <td>1000</td>\n",
       "      <td>1963</td>\n",
       "      <td>0</td>\n",
       "    </tr>\n",
       "    <tr>\n",
       "      <th>4</th>\n",
       "      <td>4.0</td>\n",
       "      <td>2.50</td>\n",
       "      <td>1940</td>\n",
       "      <td>10500</td>\n",
       "      <td>1.0</td>\n",
       "      <td>0</td>\n",
       "      <td>0</td>\n",
       "      <td>4</td>\n",
       "      <td>1140</td>\n",
       "      <td>800</td>\n",
       "      <td>1976</td>\n",
       "      <td>1992</td>\n",
       "    </tr>\n",
       "  </tbody>\n",
       "</table>\n",
       "</div>"
      ],
      "text/plain": [
       "   bedrooms  bathrooms  sqft_living  sqft_lot  floors  waterfront  view  \\\n",
       "0       3.0       1.50         1340      7912     1.5           0     0   \n",
       "1       5.0       2.50         3650      9050     2.0           0     4   \n",
       "2       3.0       2.00         1930     11947     1.0           0     0   \n",
       "3       3.0       2.25         2000      8030     1.0           0     0   \n",
       "4       4.0       2.50         1940     10500     1.0           0     0   \n",
       "\n",
       "   condition  sqft_above  sqft_basement  yr_built  yr_renovated  \n",
       "0          3        1340              0      1955          2005  \n",
       "1          5        3370            280      1921             0  \n",
       "2          4        1930              0      1966             0  \n",
       "3          4        1000           1000      1963             0  \n",
       "4          4        1140            800      1976          1992  "
      ]
     },
     "execution_count": 6,
     "metadata": {},
     "output_type": "execute_result"
    }
   ],
   "source": [
    "x= Data.drop(['date','street','street','city','statezip','country','price'],axis =1)\n",
    "x.head()"
   ]
  },
  {
   "cell_type": "code",
   "execution_count": 7,
   "metadata": {},
   "outputs": [
    {
     "data": {
      "text/plain": [
       "0     313000.0\n",
       "1    2384000.0\n",
       "2     342000.0\n",
       "3     420000.0\n",
       "4     550000.0\n",
       "Name: price, dtype: float64"
      ]
     },
     "execution_count": 7,
     "metadata": {},
     "output_type": "execute_result"
    }
   ],
   "source": [
    "y = Data[\"price\"]\n",
    "y.head()"
   ]
  },
  {
   "cell_type": "code",
   "execution_count": 8,
   "metadata": {},
   "outputs": [
    {
     "name": "stdout",
     "output_type": "stream",
     "text": [
      "<class 'pandas.core.frame.DataFrame'>\n",
      "RangeIndex: 4600 entries, 0 to 4599\n",
      "Data columns (total 12 columns):\n",
      " #   Column         Non-Null Count  Dtype  \n",
      "---  ------         --------------  -----  \n",
      " 0   bedrooms       4600 non-null   float64\n",
      " 1   bathrooms      4600 non-null   float64\n",
      " 2   sqft_living    4600 non-null   int64  \n",
      " 3   sqft_lot       4600 non-null   int64  \n",
      " 4   floors         4600 non-null   float64\n",
      " 5   waterfront     4600 non-null   int64  \n",
      " 6   view           4600 non-null   int64  \n",
      " 7   condition      4600 non-null   int64  \n",
      " 8   sqft_above     4600 non-null   int64  \n",
      " 9   sqft_basement  4600 non-null   int64  \n",
      " 10  yr_built       4600 non-null   int64  \n",
      " 11  yr_renovated   4600 non-null   int64  \n",
      "dtypes: float64(3), int64(9)\n",
      "memory usage: 431.4 KB\n"
     ]
    }
   ],
   "source": [
    "x.info()"
   ]
  },
  {
   "cell_type": "code",
   "execution_count": 9,
   "metadata": {},
   "outputs": [
    {
     "data": {
      "text/html": [
       "<div>\n",
       "<style scoped>\n",
       "    .dataframe tbody tr th:only-of-type {\n",
       "        vertical-align: middle;\n",
       "    }\n",
       "\n",
       "    .dataframe tbody tr th {\n",
       "        vertical-align: top;\n",
       "    }\n",
       "\n",
       "    .dataframe thead th {\n",
       "        text-align: right;\n",
       "    }\n",
       "</style>\n",
       "<table border=\"1\" class=\"dataframe\">\n",
       "  <thead>\n",
       "    <tr style=\"text-align: right;\">\n",
       "      <th></th>\n",
       "      <th>bedrooms</th>\n",
       "      <th>bathrooms</th>\n",
       "      <th>sqft_living</th>\n",
       "      <th>sqft_lot</th>\n",
       "      <th>floors</th>\n",
       "      <th>waterfront</th>\n",
       "      <th>view</th>\n",
       "      <th>condition</th>\n",
       "      <th>sqft_above</th>\n",
       "      <th>sqft_basement</th>\n",
       "      <th>yr_built</th>\n",
       "      <th>yr_renovated</th>\n",
       "    </tr>\n",
       "  </thead>\n",
       "  <tbody>\n",
       "    <tr>\n",
       "      <th>bedrooms</th>\n",
       "      <td>1.000000</td>\n",
       "      <td>0.545920</td>\n",
       "      <td>0.594884</td>\n",
       "      <td>0.068819</td>\n",
       "      <td>0.177895</td>\n",
       "      <td>-0.003483</td>\n",
       "      <td>0.111028</td>\n",
       "      <td>0.025080</td>\n",
       "      <td>0.484705</td>\n",
       "      <td>0.334165</td>\n",
       "      <td>0.142461</td>\n",
       "      <td>-0.061082</td>\n",
       "    </tr>\n",
       "    <tr>\n",
       "      <th>bathrooms</th>\n",
       "      <td>0.545920</td>\n",
       "      <td>1.000000</td>\n",
       "      <td>0.761154</td>\n",
       "      <td>0.107837</td>\n",
       "      <td>0.486428</td>\n",
       "      <td>0.076232</td>\n",
       "      <td>0.211960</td>\n",
       "      <td>-0.119994</td>\n",
       "      <td>0.689918</td>\n",
       "      <td>0.298020</td>\n",
       "      <td>0.463498</td>\n",
       "      <td>-0.215886</td>\n",
       "    </tr>\n",
       "    <tr>\n",
       "      <th>sqft_living</th>\n",
       "      <td>0.594884</td>\n",
       "      <td>0.761154</td>\n",
       "      <td>1.000000</td>\n",
       "      <td>0.210538</td>\n",
       "      <td>0.344850</td>\n",
       "      <td>0.117616</td>\n",
       "      <td>0.311009</td>\n",
       "      <td>-0.062826</td>\n",
       "      <td>0.876443</td>\n",
       "      <td>0.447206</td>\n",
       "      <td>0.287775</td>\n",
       "      <td>-0.122817</td>\n",
       "    </tr>\n",
       "    <tr>\n",
       "      <th>sqft_lot</th>\n",
       "      <td>0.068819</td>\n",
       "      <td>0.107837</td>\n",
       "      <td>0.210538</td>\n",
       "      <td>1.000000</td>\n",
       "      <td>0.003750</td>\n",
       "      <td>0.017241</td>\n",
       "      <td>0.073907</td>\n",
       "      <td>0.000558</td>\n",
       "      <td>0.216455</td>\n",
       "      <td>0.034842</td>\n",
       "      <td>0.050706</td>\n",
       "      <td>-0.022730</td>\n",
       "    </tr>\n",
       "    <tr>\n",
       "      <th>floors</th>\n",
       "      <td>0.177895</td>\n",
       "      <td>0.486428</td>\n",
       "      <td>0.344850</td>\n",
       "      <td>0.003750</td>\n",
       "      <td>1.000000</td>\n",
       "      <td>0.022024</td>\n",
       "      <td>0.031211</td>\n",
       "      <td>-0.275013</td>\n",
       "      <td>0.522814</td>\n",
       "      <td>-0.255510</td>\n",
       "      <td>0.467481</td>\n",
       "      <td>-0.233996</td>\n",
       "    </tr>\n",
       "    <tr>\n",
       "      <th>waterfront</th>\n",
       "      <td>-0.003483</td>\n",
       "      <td>0.076232</td>\n",
       "      <td>0.117616</td>\n",
       "      <td>0.017241</td>\n",
       "      <td>0.022024</td>\n",
       "      <td>1.000000</td>\n",
       "      <td>0.360935</td>\n",
       "      <td>0.000352</td>\n",
       "      <td>0.078911</td>\n",
       "      <td>0.097501</td>\n",
       "      <td>-0.023563</td>\n",
       "      <td>0.008625</td>\n",
       "    </tr>\n",
       "    <tr>\n",
       "      <th>view</th>\n",
       "      <td>0.111028</td>\n",
       "      <td>0.211960</td>\n",
       "      <td>0.311009</td>\n",
       "      <td>0.073907</td>\n",
       "      <td>0.031211</td>\n",
       "      <td>0.360935</td>\n",
       "      <td>1.000000</td>\n",
       "      <td>0.063077</td>\n",
       "      <td>0.174327</td>\n",
       "      <td>0.321602</td>\n",
       "      <td>-0.064465</td>\n",
       "      <td>0.022967</td>\n",
       "    </tr>\n",
       "    <tr>\n",
       "      <th>condition</th>\n",
       "      <td>0.025080</td>\n",
       "      <td>-0.119994</td>\n",
       "      <td>-0.062826</td>\n",
       "      <td>0.000558</td>\n",
       "      <td>-0.275013</td>\n",
       "      <td>0.000352</td>\n",
       "      <td>0.063077</td>\n",
       "      <td>1.000000</td>\n",
       "      <td>-0.178196</td>\n",
       "      <td>0.200632</td>\n",
       "      <td>-0.399698</td>\n",
       "      <td>-0.186818</td>\n",
       "    </tr>\n",
       "    <tr>\n",
       "      <th>sqft_above</th>\n",
       "      <td>0.484705</td>\n",
       "      <td>0.689918</td>\n",
       "      <td>0.876443</td>\n",
       "      <td>0.216455</td>\n",
       "      <td>0.522814</td>\n",
       "      <td>0.078911</td>\n",
       "      <td>0.174327</td>\n",
       "      <td>-0.178196</td>\n",
       "      <td>1.000000</td>\n",
       "      <td>-0.038723</td>\n",
       "      <td>0.408535</td>\n",
       "      <td>-0.160426</td>\n",
       "    </tr>\n",
       "    <tr>\n",
       "      <th>sqft_basement</th>\n",
       "      <td>0.334165</td>\n",
       "      <td>0.298020</td>\n",
       "      <td>0.447206</td>\n",
       "      <td>0.034842</td>\n",
       "      <td>-0.255510</td>\n",
       "      <td>0.097501</td>\n",
       "      <td>0.321602</td>\n",
       "      <td>0.200632</td>\n",
       "      <td>-0.038723</td>\n",
       "      <td>1.000000</td>\n",
       "      <td>-0.161675</td>\n",
       "      <td>0.043125</td>\n",
       "    </tr>\n",
       "    <tr>\n",
       "      <th>yr_built</th>\n",
       "      <td>0.142461</td>\n",
       "      <td>0.463498</td>\n",
       "      <td>0.287775</td>\n",
       "      <td>0.050706</td>\n",
       "      <td>0.467481</td>\n",
       "      <td>-0.023563</td>\n",
       "      <td>-0.064465</td>\n",
       "      <td>-0.399698</td>\n",
       "      <td>0.408535</td>\n",
       "      <td>-0.161675</td>\n",
       "      <td>1.000000</td>\n",
       "      <td>-0.321342</td>\n",
       "    </tr>\n",
       "    <tr>\n",
       "      <th>yr_renovated</th>\n",
       "      <td>-0.061082</td>\n",
       "      <td>-0.215886</td>\n",
       "      <td>-0.122817</td>\n",
       "      <td>-0.022730</td>\n",
       "      <td>-0.233996</td>\n",
       "      <td>0.008625</td>\n",
       "      <td>0.022967</td>\n",
       "      <td>-0.186818</td>\n",
       "      <td>-0.160426</td>\n",
       "      <td>0.043125</td>\n",
       "      <td>-0.321342</td>\n",
       "      <td>1.000000</td>\n",
       "    </tr>\n",
       "  </tbody>\n",
       "</table>\n",
       "</div>"
      ],
      "text/plain": [
       "               bedrooms  bathrooms  sqft_living  sqft_lot    floors  \\\n",
       "bedrooms       1.000000   0.545920     0.594884  0.068819  0.177895   \n",
       "bathrooms      0.545920   1.000000     0.761154  0.107837  0.486428   \n",
       "sqft_living    0.594884   0.761154     1.000000  0.210538  0.344850   \n",
       "sqft_lot       0.068819   0.107837     0.210538  1.000000  0.003750   \n",
       "floors         0.177895   0.486428     0.344850  0.003750  1.000000   \n",
       "waterfront    -0.003483   0.076232     0.117616  0.017241  0.022024   \n",
       "view           0.111028   0.211960     0.311009  0.073907  0.031211   \n",
       "condition      0.025080  -0.119994    -0.062826  0.000558 -0.275013   \n",
       "sqft_above     0.484705   0.689918     0.876443  0.216455  0.522814   \n",
       "sqft_basement  0.334165   0.298020     0.447206  0.034842 -0.255510   \n",
       "yr_built       0.142461   0.463498     0.287775  0.050706  0.467481   \n",
       "yr_renovated  -0.061082  -0.215886    -0.122817 -0.022730 -0.233996   \n",
       "\n",
       "               waterfront      view  condition  sqft_above  sqft_basement  \\\n",
       "bedrooms        -0.003483  0.111028   0.025080    0.484705       0.334165   \n",
       "bathrooms        0.076232  0.211960  -0.119994    0.689918       0.298020   \n",
       "sqft_living      0.117616  0.311009  -0.062826    0.876443       0.447206   \n",
       "sqft_lot         0.017241  0.073907   0.000558    0.216455       0.034842   \n",
       "floors           0.022024  0.031211  -0.275013    0.522814      -0.255510   \n",
       "waterfront       1.000000  0.360935   0.000352    0.078911       0.097501   \n",
       "view             0.360935  1.000000   0.063077    0.174327       0.321602   \n",
       "condition        0.000352  0.063077   1.000000   -0.178196       0.200632   \n",
       "sqft_above       0.078911  0.174327  -0.178196    1.000000      -0.038723   \n",
       "sqft_basement    0.097501  0.321602   0.200632   -0.038723       1.000000   \n",
       "yr_built        -0.023563 -0.064465  -0.399698    0.408535      -0.161675   \n",
       "yr_renovated     0.008625  0.022967  -0.186818   -0.160426       0.043125   \n",
       "\n",
       "               yr_built  yr_renovated  \n",
       "bedrooms       0.142461     -0.061082  \n",
       "bathrooms      0.463498     -0.215886  \n",
       "sqft_living    0.287775     -0.122817  \n",
       "sqft_lot       0.050706     -0.022730  \n",
       "floors         0.467481     -0.233996  \n",
       "waterfront    -0.023563      0.008625  \n",
       "view          -0.064465      0.022967  \n",
       "condition     -0.399698     -0.186818  \n",
       "sqft_above     0.408535     -0.160426  \n",
       "sqft_basement -0.161675      0.043125  \n",
       "yr_built       1.000000     -0.321342  \n",
       "yr_renovated  -0.321342      1.000000  "
      ]
     },
     "execution_count": 9,
     "metadata": {},
     "output_type": "execute_result"
    }
   ],
   "source": [
    "x.corr()\n"
   ]
  },
  {
   "cell_type": "code",
   "execution_count": 10,
   "metadata": {},
   "outputs": [
    {
     "data": {
      "text/plain": [
       "<AxesSubplot:>"
      ]
     },
     "execution_count": 10,
     "metadata": {},
     "output_type": "execute_result"
    },
    {
     "data": {
      "image/png": "[encoded data removed]",
      "text/plain": [
       "<Figure size 720x720 with 2 Axes>"
      ]
     },
     "metadata": {
      "needs_background": "light"
     },
     "output_type": "display_data"
    }
   ],
   "source": [
    "plt.figure(figsize=(10,10)) \n",
    "sns.heatmap(x.corr(),annot =True,cmap='RdYlBu')"
   ]
  },
  {
   "cell_type": "code",
   "execution_count": 11,
   "metadata": {},
   "outputs": [
    {
     "data": {
      "image/png": "[encoded data removed]",
      "text/plain": [
       "<Figure size 432x288 with 1 Axes>"
      ]
     },
     "metadata": {
      "needs_background": "light"
     },
     "output_type": "display_data"
    }
   ],
   "source": [
    "def Scatter(a):\n",
    "    Data.plot(kind = \"scatter\" , x=a,y='price')\n",
    "    plt.show()\n",
    "Scatter('bedrooms') "
   ]
  },
  {
   "cell_type": "code",
   "execution_count": 12,
   "metadata": {},
   "outputs": [
    {
     "data": {
      "image/png": "[encoded data removed]",
      "text/plain": [
       "<Figure size 432x288 with 1 Axes>"
      ]
     },
     "metadata": {
      "needs_background": "light"
     },
     "output_type": "display_data"
    }
   ],
   "source": [
    "Scatter('bathrooms')  "
   ]
  },
  {
   "cell_type": "code",
   "execution_count": 13,
   "metadata": {},
   "outputs": [
    {
     "data": {
      "image/png": "[encoded data removed]",
      "text/plain": [
       "<Figure size 432x288 with 1 Axes>"
      ]
     },
     "metadata": {
      "needs_background": "light"
     },
     "output_type": "display_data"
    }
   ],
   "source": [
    "Scatter('sqft_living') "
   ]
  },
  {
   "cell_type": "code",
   "execution_count": 14,
   "metadata": {},
   "outputs": [
    {
     "data": {
      "image/png": "[encoded data removed]",
      "text/plain": [
       "<Figure size 432x288 with 1 Axes>"
      ]
     },
     "metadata": {
      "needs_background": "light"
     },
     "output_type": "display_data"
    }
   ],
   "source": [
    "Scatter('sqft_lot')  data:image/png;base64,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"
   ]
  },
  {
   "cell_type": "code",
   "execution_count": 15,
   "metadata": {},
   "outputs": [
    {
     "data": {
      "image/png": "[encoded data removed]",
      "text/plain": [
       "<Figure size 432x288 with 1 Axes>"
      ]
     },
     "metadata": {
      "needs_background": "light"
     },
     "output_type": "display_data"
    }
   ],
   "source": [
    "Scatter('floors')"
   ]
  },
  {
   "cell_type": "code",
   "execution_count": 16,
   "metadata": {},
   "outputs": [
    {
     "data": {
      "image/png": "[encoded data removed]",
      "text/plain": [
       "<Figure size 432x288 with 1 Axes>"
      ]
     },
     "metadata": {
      "needs_background": "light"
     },
     "output_type": "display_data"
    }
   ],
   "source": [
    "Scatter('waterfront') "
   ]
  },
  {
   "cell_type": "code",
   "execution_count": 17,
   "metadata": {},
   "outputs": [
    {
     "data": {
      "image/png": "[encoded data removed]",
      "text/plain": [
       "<Figure size 432x288 with 1 Axes>"
      ]
     },
     "metadata": {
      "needs_background": "light"
     },
     "output_type": "display_data"
    }
   ],
   "source": [
    "Scatter('view')"
   ]
  },
  {
   "cell_type": "code",
   "execution_count": 18,
   "metadata": {},
   "outputs": [
    {
     "data": {
      "image/png": "[encoded data removed]",
      "text/plain": [
       "<Figure size 432x288 with 1 Axes>"
      ]
     },
     "metadata": {
      "needs_background": "light"
     },
     "output_type": "display_data"
    }
   ],
   "source": [
    "Scatter('condition')"
   ]
  },
  {
   "cell_type": "code",
   "execution_count": 19,
   "metadata": {},
   "outputs": [
    {
     "data": {
      "image/png": "[encoded data removed]",
      "text/plain": [
       "<Figure size 432x288 with 1 Axes>"
      ]
     },
     "metadata": {
      "needs_background": "light"
     },
     "output_type": "display_data"
    }
   ],
   "source": [
    "Scatter('sqft_above')"
   ]
  },
  {
   "cell_type": "code",
   "execution_count": 20,
   "metadata": {},
   "outputs": [
    {
     "data": {
      "image/png": "[encoded data removed]",
      "text/plain": [
       "<Figure size 432x288 with 1 Axes>"
      ]
     },
     "metadata": {
      "needs_background": "light"
     },
     "output_type": "display_data"
    }
   ],
   "source": [
    "Scatter('sqft_basement')"
   ]
  },
  {
   "cell_type": "code",
   "execution_count": 21,
   "metadata": {},
   "outputs": [
    {
     "data": {
      "image/png": "[encoded data removed]",
      "text/plain": [
       "<Figure size 432x288 with 1 Axes>"
      ]
     },
     "metadata": {
      "needs_background": "light"
     },
     "output_type": "display_data"
    }
   ],
   "source": [
    "Scatter('yr_built')"
   ]
  },
  {
   "cell_type": "code",
   "execution_count": 22,
   "metadata": {},
   "outputs": [
    {
     "data": {
      "image/png": "[encoded data removed]",
      "text/plain": [
       "<Figure size 432x288 with 1 Axes>"
      ]
     },
     "metadata": {
      "needs_background": "light"
     },
     "output_type": "display_data"
    }
   ],
   "source": [
    "Scatter('yr_renovated')"
   ]
  },
  {
   "cell_type": "code",
   "execution_count": 23,
   "metadata": {},
   "outputs": [
    {
     "name": "stdout",
     "output_type": "stream",
     "text": [
      "      bedrooms  bathrooms  sqft_living  sqft_lot    floors  waterfront  \\\n",
      "0    -0.441074  -0.843112    -0.829881 -0.193413 -0.022414   -0.084995   \n",
      "1     1.759513   0.432754     1.568358 -0.161700  0.906456   -0.084995   \n",
      "2    -0.441074  -0.205179    -0.217344 -0.080969 -0.951284   -0.084995   \n",
      "3    -0.441074   0.113788    -0.144670 -0.190125 -0.951284   -0.084995   \n",
      "4     0.659220   0.432754    -0.206962 -0.121293 -0.951284   -0.084995   \n",
      "...        ...        ...          ...       ...       ...         ...   \n",
      "4595 -0.441074  -0.524145    -0.653387 -0.236663 -0.951284   -0.084995   \n",
      "4596 -0.441074   0.432754    -0.705297 -0.202860  0.906456   -0.084995   \n",
      "4597 -0.441074   0.432754     0.903911 -0.218438  0.906456   -0.084995   \n",
      "4598  0.659220  -0.205179    -0.051232 -0.229139 -0.951284   -0.084995   \n",
      "4599 -0.441074   0.432754    -0.674151 -0.188118  0.906456   -0.084995   \n",
      "\n",
      "          view  condition  sqft_above  sqft_basement  yr_built  yr_renovated  \n",
      "0    -0.309161  -0.667040   -0.565162      -0.672391 -0.530956      1.221538  \n",
      "1     4.829554   2.286168    1.789365      -0.069121 -1.674511     -0.825604  \n",
      "2    -0.309161   0.809564    0.119158      -0.672391 -0.160982     -0.825604  \n",
      "3    -0.309161   0.809564   -0.959517       1.482145 -0.261884     -0.825604  \n",
      "4    -0.309161   0.809564   -0.797135       1.051238  0.175357      1.208264  \n",
      "...        ...        ...         ...            ...       ...           ...  \n",
      "4595 -0.309161   0.809564   -0.367985      -0.672391 -0.564590      1.194991  \n",
      "4596 -0.309161  -0.667040   -0.425978      -0.672391  0.410795      1.225622  \n",
      "4597 -0.309161  -0.667040    1.371813      -0.672391  1.285278     -0.825604  \n",
      "4598 -0.309161  -0.667040   -0.878326       1.525235  0.108089     -0.825604  \n",
      "4599 -0.309161   0.809564   -0.391183      -0.672391  0.646233     -0.825604  \n",
      "\n",
      "[4600 rows x 12 columns]\n"
     ]
    }
   ],
   "source": [
    "X_mean = x.mean()\n",
    " \n",
    "# Standard deviation\n",
    "X_std = x.std()\n",
    " \n",
    "# Standardization\n",
    "Z = (x - X_mean) / X_std\n",
    "print(Z)"
   ]
  },
  {
   "cell_type": "code",
   "execution_count": 24,
   "metadata": {},
   "outputs": [
    {
     "name": "stdout",
     "output_type": "stream",
     "text": [
      "[[-0.44112227 -0.84320364 -0.82997105 ... -0.67246372 -0.53101376\n",
      "   1.22167046]\n",
      " [ 1.75970468  0.43280154  1.56852826 ... -0.06912828 -1.67469295\n",
      "  -0.82569345]\n",
      " [-0.44112227 -0.20520105 -0.21736733 ... -0.67246372 -0.1609999\n",
      "  -0.82569345]\n",
      " ...\n",
      " [-0.44112227  0.43280154  0.90400897 ... -0.67246372  1.2854179\n",
      "  -0.82569345]\n",
      " [ 0.6592912  -0.20520105 -0.05123751 ...  1.5254011   0.10810108\n",
      "  -0.82569345]\n",
      " [-0.44112227  0.43280154 -0.67422434 ... -0.67246372  0.64630305\n",
      "  -0.82569345]]\n"
     ]
    }
   ],
   "source": [
    "scalar=StandardScaler()\n",
    "#scalar.fit(x)\n",
    "X=scalar.fit_transform(x)\n",
    "print(X)\n"
   ]
  },
  {
   "cell_type": "code",
   "execution_count": 26,
   "metadata": {},
   "outputs": [
    {
     "data": {
      "text/plain": [
       "['bedrooms',\n",
       " 'bathrooms',\n",
       " 'sqft_living',\n",
       " 'sqft_lot',\n",
       " 'floors',\n",
       " 'waterfront',\n",
       " 'view',\n",
       " 'condition',\n",
       " 'sqft_above',\n",
       " 'sqft_basement',\n",
       " 'yr_built',\n",
       " 'yr_renovated']"
      ]
     },
     "execution_count": 26,
     "metadata": {},
     "output_type": "execute_result"
    }
   ],
   "source": [
    "Ss = [w for w in x]\n",
    "Ss"
   ]
  },
  {
   "cell_type": "code",
   "execution_count": 27,
   "metadata": {},
   "outputs": [
    {
     "data": {
      "text/html": [
       "<div>\n",
       "<style scoped>\n",
       "    .dataframe tbody tr th:only-of-type {\n",
       "        vertical-align: middle;\n",
       "    }\n",
       "\n",
       "    .dataframe tbody tr th {\n",
       "        vertical-align: top;\n",
       "    }\n",
       "\n",
       "    .dataframe thead th {\n",
       "        text-align: right;\n",
       "    }\n",
       "</style>\n",
       "<table border=\"1\" class=\"dataframe\">\n",
       "  <thead>\n",
       "    <tr style=\"text-align: right;\">\n",
       "      <th></th>\n",
       "      <th>const</th>\n",
       "      <th>bedrooms</th>\n",
       "      <th>bathrooms</th>\n",
       "      <th>sqft_living</th>\n",
       "      <th>sqft_lot</th>\n",
       "      <th>floors</th>\n",
       "      <th>waterfront</th>\n",
       "      <th>view</th>\n",
       "      <th>condition</th>\n",
       "      <th>sqft_above</th>\n",
       "      <th>sqft_basement</th>\n",
       "      <th>yr_built</th>\n",
       "      <th>yr_renovated</th>\n",
       "    </tr>\n",
       "  </thead>\n",
       "  <tbody>\n",
       "    <tr>\n",
       "      <th>0</th>\n",
       "      <td>1.0</td>\n",
       "      <td>3.0</td>\n",
       "      <td>1.50</td>\n",
       "      <td>1340</td>\n",
       "      <td>7912</td>\n",
       "      <td>1.5</td>\n",
       "      <td>0</td>\n",
       "      <td>0</td>\n",
       "      <td>3</td>\n",
       "      <td>1340</td>\n",
       "      <td>0</td>\n",
       "      <td>1955</td>\n",
       "      <td>2005</td>\n",
       "    </tr>\n",
       "    <tr>\n",
       "      <th>1</th>\n",
       "      <td>1.0</td>\n",
       "      <td>5.0</td>\n",
       "      <td>2.50</td>\n",
       "      <td>3650</td>\n",
       "      <td>9050</td>\n",
       "      <td>2.0</td>\n",
       "      <td>0</td>\n",
       "      <td>4</td>\n",
       "      <td>5</td>\n",
       "      <td>3370</td>\n",
       "      <td>280</td>\n",
       "      <td>1921</td>\n",
       "      <td>0</td>\n",
       "    </tr>\n",
       "    <tr>\n",
       "      <th>2</th>\n",
       "      <td>1.0</td>\n",
       "      <td>3.0</td>\n",
       "      <td>2.00</td>\n",
       "      <td>1930</td>\n",
       "      <td>11947</td>\n",
       "      <td>1.0</td>\n",
       "      <td>0</td>\n",
       "      <td>0</td>\n",
       "      <td>4</td>\n",
       "      <td>1930</td>\n",
       "      <td>0</td>\n",
       "      <td>1966</td>\n",
       "      <td>0</td>\n",
       "    </tr>\n",
       "    <tr>\n",
       "      <th>3</th>\n",
       "      <td>1.0</td>\n",
       "      <td>3.0</td>\n",
       "      <td>2.25</td>\n",
       "      <td>2000</td>\n",
       "      <td>8030</td>\n",
       "      <td>1.0</td>\n",
       "      <td>0</td>\n",
       "      <td>0</td>\n",
       "      <td>4</td>\n",
       "      <td>1000</td>\n",
       "      <td>1000</td>\n",
       "      <td>1963</td>\n",
       "      <td>0</td>\n",
       "    </tr>\n",
       "    <tr>\n",
       "      <th>4</th>\n",
       "      <td>1.0</td>\n",
       "      <td>4.0</td>\n",
       "      <td>2.50</td>\n",
       "      <td>1940</td>\n",
       "      <td>10500</td>\n",
       "      <td>1.0</td>\n",
       "      <td>0</td>\n",
       "      <td>0</td>\n",
       "      <td>4</td>\n",
       "      <td>1140</td>\n",
       "      <td>800</td>\n",
       "      <td>1976</td>\n",
       "      <td>1992</td>\n",
       "    </tr>\n",
       "  </tbody>\n",
       "</table>\n",
       "</div>"
      ],
      "text/plain": [
       "   const  bedrooms  bathrooms  sqft_living  sqft_lot  floors  waterfront  \\\n",
       "0    1.0       3.0       1.50         1340      7912     1.5           0   \n",
       "1    1.0       5.0       2.50         3650      9050     2.0           0   \n",
       "2    1.0       3.0       2.00         1930     11947     1.0           0   \n",
       "3    1.0       3.0       2.25         2000      8030     1.0           0   \n",
       "4    1.0       4.0       2.50         1940     10500     1.0           0   \n",
       "\n",
       "   view  condition  sqft_above  sqft_basement  yr_built  yr_renovated  \n",
       "0     0          3        1340              0      1955          2005  \n",
       "1     4          5        3370            280      1921             0  \n",
       "2     0          4        1930              0      1966             0  \n",
       "3     0          4        1000           1000      1963             0  \n",
       "4     0          4        1140            800      1976          1992  "
      ]
     },
     "execution_count": 27,
     "metadata": {},
     "output_type": "execute_result"
    }
   ],
   "source": [
    "X = sm.add_constant( Data[Ss] )\n",
    "X.head(5)"
   ]
  },
  {
   "cell_type": "code",
   "execution_count": 28,
   "metadata": {},
   "outputs": [],
   "source": [
    "from sklearn.model_selection import train_test_split\n",
    "train_x,test_x,train_y,test_y= train_test_split(X, y , train_size=0.7)"
   ]
  },
  {
   "cell_type": "code",
   "execution_count": 29,
   "metadata": {},
   "outputs": [
    {
     "data": {
      "text/plain": [
       "(1380, 13)"
      ]
     },
     "execution_count": 29,
     "metadata": {},
     "output_type": "execute_result"
    }
   ],
   "source": [
    "test_x.shape"
   ]
  },
  {
   "cell_type": "code",
   "execution_count": 30,
   "metadata": {},
   "outputs": [
    {
     "data": {
      "text/plain": [
       "(3220, 13)"
      ]
     },
     "execution_count": 30,
     "metadata": {},
     "output_type": "execute_result"
    }
   ],
   "source": [
    "train_x.shape"
   ]
  },
  {
   "cell_type": "code",
   "execution_count": 31,
   "metadata": {},
   "outputs": [
    {
     "data": {
      "text/html": [
       "<style>#sk-container-id-1 {color: black;background-color: white;}#sk-container-id-1 pre{padding: 0;}#sk-container-id-1 div.sk-toggleable {background-color: white;}#sk-container-id-1 label.sk-toggleable__label {cursor: pointer;display: block;width: 100%;margin-bottom: 0;padding: 0.3em;box-sizing: border-box;text-align: center;}#sk-container-id-1 label.sk-toggleable__label-arrow:before {content: \"▸\";float: left;margin-right: 0.25em;color: #696969;}#sk-container-id-1 label.sk-toggleable__label-arrow:hover:before {color: black;}#sk-container-id-1 div.sk-estimator:hover label.sk-toggleable__label-arrow:before {color: black;}#sk-container-id-1 div.sk-toggleable__content {max-height: 0;max-width: 0;overflow: hidden;text-align: left;background-color: #f0f8ff;}#sk-container-id-1 div.sk-toggleable__content pre {margin: 0.2em;color: black;border-radius: 0.25em;background-color: #f0f8ff;}#sk-container-id-1 input.sk-toggleable__control:checked~div.sk-toggleable__content {max-height: 200px;max-width: 100%;overflow: auto;}#sk-container-id-1 input.sk-toggleable__control:checked~label.sk-toggleable__label-arrow:before {content: \"▾\";}#sk-container-id-1 div.sk-estimator input.sk-toggleable__control:checked~label.sk-toggleable__label {background-color: #d4ebff;}#sk-container-id-1 div.sk-label input.sk-toggleable__control:checked~label.sk-toggleable__label {background-color: #d4ebff;}#sk-container-id-1 input.sk-hidden--visually {border: 0;clip: rect(1px 1px 1px 1px);clip: rect(1px, 1px, 1px, 1px);height: 1px;margin: -1px;overflow: hidden;padding: 0;position: absolute;width: 1px;}#sk-container-id-1 div.sk-estimator {font-family: monospace;background-color: #f0f8ff;border: 1px dotted black;border-radius: 0.25em;box-sizing: border-box;margin-bottom: 0.5em;}#sk-container-id-1 div.sk-estimator:hover {background-color: #d4ebff;}#sk-container-id-1 div.sk-parallel-item::after {content: \"\";width: 100%;border-bottom: 1px solid gray;flex-grow: 1;}#sk-container-id-1 div.sk-label:hover label.sk-toggleable__label {background-color: #d4ebff;}#sk-container-id-1 div.sk-serial::before {content: \"\";position: absolute;border-left: 1px solid gray;box-sizing: border-box;top: 0;bottom: 0;left: 50%;z-index: 0;}#sk-container-id-1 div.sk-serial {display: flex;flex-direction: column;align-items: center;background-color: white;padding-right: 0.2em;padding-left: 0.2em;position: relative;}#sk-container-id-1 div.sk-item {position: relative;z-index: 1;}#sk-container-id-1 div.sk-parallel {display: flex;align-items: stretch;justify-content: center;background-color: white;position: relative;}#sk-container-id-1 div.sk-item::before, #sk-container-id-1 div.sk-parallel-item::before {content: \"\";position: absolute;border-left: 1px solid gray;box-sizing: border-box;top: 0;bottom: 0;left: 50%;z-index: -1;}#sk-container-id-1 div.sk-parallel-item {display: flex;flex-direction: column;z-index: 1;position: relative;background-color: white;}#sk-container-id-1 div.sk-parallel-item:first-child::after {align-self: flex-end;width: 50%;}#sk-container-id-1 div.sk-parallel-item:last-child::after {align-self: flex-start;width: 50%;}#sk-container-id-1 div.sk-parallel-item:only-child::after {width: 0;}#sk-container-id-1 div.sk-dashed-wrapped {border: 1px dashed gray;margin: 0 0.4em 0.5em 0.4em;box-sizing: border-box;padding-bottom: 0.4em;background-color: white;}#sk-container-id-1 div.sk-label label {font-family: monospace;font-weight: bold;display: inline-block;line-height: 1.2em;}#sk-container-id-1 div.sk-label-container {text-align: center;}#sk-container-id-1 div.sk-container {/* jupyter's `normalize.less` sets `[hidden] { display: none; }` but bootstrap.min.css set `[hidden] { display: none !important; }` so we also need the `!important` here to be able to override the default hidden behavior on the sphinx rendered scikit-learn.org. See: https://github.com/scikit-learn/scikit-learn/issues/21755 */display: inline-block !important;position: relative;}#sk-container-id-1 div.sk-text-repr-fallback {display: none;}</style><div id=\"sk-container-id-1\" class=\"sk-top-container\"><div class=\"sk-text-repr-fallback\"><pre>LinearRegression()</pre><b>In a Jupyter environment, please rerun this cell to show the HTML representation or trust the notebook. <br />On GitHub, the HTML representation is unable to render, please try loading this page with nbviewer.org.</b></div><div class=\"sk-container\" hidden><div class=\"sk-item\"><div class=\"sk-estimator sk-toggleable\"><input class=\"sk-toggleable__control sk-hidden--visually\" id=\"sk-estimator-id-1\" type=\"checkbox\" checked><label for=\"sk-estimator-id-1\" class=\"sk-toggleable__label sk-toggleable__label-arrow\">LinearRegression</label><div class=\"sk-toggleable__content\"><pre>LinearRegression()</pre></div></div></div></div></div>"
      ],
      "text/plain": [
       "LinearRegression()"
      ]
     },
     "execution_count": 31,
     "metadata": {},
     "output_type": "execute_result"
    }
   ],
   "source": [
    "model = LinearRegression()\n",
    "model.fit(train_x , train_y)"
   ]
  },
  {
   "cell_type": "code",
   "execution_count": 32,
   "metadata": {},
   "outputs": [
    {
     "data": {
      "text/plain": [
       "4596507.247459341"
      ]
     },
     "execution_count": 32,
     "metadata": {},
     "output_type": "execute_result"
    }
   ],
   "source": [
    "pred_y = model.predict(test_x)\n",
    "c = model.intercept_\n",
    "c"
   ]
  },
  {
   "cell_type": "code",
   "execution_count": 33,
   "metadata": {},
   "outputs": [
    {
     "data": {
      "text/plain": [
       "array([ 0.00000000e+00, -6.35169549e+04,  6.07634606e+04,  1.70610648e+02,\n",
       "       -5.91969678e-01,  3.62503877e+04,  4.05496194e+05,  3.27418491e+04,\n",
       "        3.85748516e+04,  9.82494855e+01,  7.23611620e+01, -2.39190732e+03,\n",
       "        4.04863974e+00])"
      ]
     },
     "execution_count": 33,
     "metadata": {},
     "output_type": "execute_result"
    }
   ],
   "source": [
    "m = model.coef_\n",
    "m"
   ]
  },
  {
   "cell_type": "code",
   "execution_count": 34,
   "metadata": {},
   "outputs": [
    {
     "name": "stdout",
     "output_type": "stream",
     "text": [
      "[ 175336.38902299  521055.75656389  270315.74839067 ...  644250.23673443\n",
      "  344889.21358581 1161871.14279958]\n"
     ]
    }
   ],
   "source": [
    "print(pred_y)"
   ]
  },
  {
   "cell_type": "code",
   "execution_count": 35,
   "metadata": {},
   "outputs": [
    {
     "data": {
      "image/png": "[encoded data removed]",
      "text/plain": [
       "<Figure size 432x288 with 1 Axes>"
      ]
     },
     "metadata": {
      "needs_background": "light"
     },
     "output_type": "display_data"
    }
   ],
   "source": [
    "plt.scatter(test_y,pred_y)\n",
    "plt.xlabel('actual score')\n",
    "plt.ylabel('predicted score')\n",
    "plt.show()"
   ]
  },
  {
   "cell_type": "code",
   "execution_count": 40,
   "metadata": {},
   "outputs": [
    {
     "data": {
      "text/plain": [
       "0.5024517349159334"
      ]
     },
     "execution_count": 40,
     "metadata": {},
     "output_type": "execute_result"
    }
   ],
   "source": [
    "r2= r2_score(test_y,pred_y)\n",
    "r2 "
   ]
  },
  {
   "cell_type": "code",
   "execution_count": 37,
   "metadata": {},
   "outputs": [
    {
     "data": {
      "text/plain": [
       "array([354729.33696997])"
      ]
     },
     "execution_count": 37,
     "metadata": {},
     "output_type": "execute_result"
    }
   ],
   "source": [
    "model.predict([[1,3,1.50,1340,7912,1.5,0,0,3,1340,0,1955,2005]])"
   ]
  },
  {
   "cell_type": "code",
   "execution_count": 38,
   "metadata": {},
   "outputs": [
    {
     "data": {
      "text/plain": [
       "54194.608588010015"
      ]
     },
     "execution_count": 38,
     "metadata": {},
     "output_type": "execute_result"
    }
   ],
   "source": [
    "error = 367194.60858801 - 313000.0\n",
    "error"
   ]
  },
  {
   "cell_type": "code",
   "execution_count": 41,
   "metadata": {},
   "outputs": [
    {
     "name": "stdout",
     "output_type": "stream",
     "text": [
      "The model has a moderate fit and gives decent predictions.\n",
      "You can further refine the model by feature engineering and hyperparameter tuning to improve its performance.\n"
     ]
    }
   ],
   "source": [
    "if r2 >= 0.7:\n",
    "    print(\"The model has a strong fit and performs well.\")\n",
    "elif r2 >= 0.5:\n",
    "    print(\"The model has a moderate fit and gives decent predictions.\")\n",
    "else:\n",
    "    print(\"The model may need further improvement as it has a weak fit.\")\n",
    "\n",
    "print(\"You can further refine the model by feature engineering and hyperparameter tuning to improve its performance.\")"
   ]
  },
  {
   "cell_type": "markdown",
   "metadata": {},
   "source": [
    "This Jupyter Notebook code begins by loading the dataset, preprocessing the data (which includes handling missing values, encoding categorical variables, and selecting relevant features), and splitting the data into training and testing sets. It then creates a Linear Regression model, fits it to the training data, makes predictions on the test data, and evaluates the model's performance using metrics.\n",
    "\n",
    "The conclusion section interprets the results and provides guidance on potential improvements to the model. This allows you to assess how well the model is performing and what actions can be taken to enhance its accuracy."
   ]
  }
 ],
 "metadata": {
  "kernelspec": {
   "display_name": "Python 3",
   "language": "python",
   "name": "python3"
  },
  "language_info": {
   "codemirror_mode": {
    "name": "ipython",
    "version": 3
   },
   "file_extension": ".py",
   "mimetype": "text/x-python",
   "name": "python",
   "nbconvert_exporter": "python",
   "pygments_lexer": "ipython3",
   "version": "3.8.5"
  }
 },
 "nbformat": 4,
 "nbformat_minor": 4
}
